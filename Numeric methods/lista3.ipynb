{
 "cells": [
  {
   "cell_type": "code",
   "execution_count": 22,
   "metadata": {},
   "outputs": [],
   "source": [
    "import numpy as np\n",
    "import seaborn as sns\n",
    "import math\n",
    "import matplotlib.pyplot as plt\n",
    "import seaborn as sns\n",
    "import scipy.stats\n",
    "import pandas as pd\n",
    "from scipy.interpolate import CubicSpline\n",
    "from scipy.linalg import solve, hilbert, norm\n",
    "import time\n",
    "sns.set()"
   ]
  },
  {
   "cell_type": "markdown",
   "metadata": {},
   "source": [
    "# Zad 1"
   ]
  },
  {
   "cell_type": "markdown",
   "metadata": {},
   "source": [
    "W tym zadaniu chcemy metodą iteracyjnego poprawiania rozwiązań rozwiązać układ równań.\n",
    "\n",
    "W tym celu wyznaczymy macierz Hilberta $A$ oraz macierz $b$, a następnie rozwiążemy układ równań $Ax=b$ za pomocą funkcji wbudowanej $solve$. Obliczymy różnicę $r$ jako $r=b-Ax$, a następnie znajdziemy rozwiązanie układu równań dla tej różniczy $Ax=r$ i poprawimy rozwiązanie."
   ]
  },
  {
   "cell_type": "code",
   "execution_count": 50,
   "metadata": {},
   "outputs": [],
   "source": [
    "def iteracyjne_poprawianie(A, b, iteracje=1000, tolerancja=1e-10):\n",
    "    #Znalezienie przybliżonego rozwiązania (można użyć metody Gaussa-Seidela z zad 2)\n",
    "    A=A.astype(np.float32)\n",
    "    b=b.astype(np.float32)\n",
    "    x0=solve(A, b)\n",
    "    \n",
    "    #Metoda iteracyjnego poprawiania rozwiązań\n",
    "    for i in range(iteracje):\n",
    "        r=b-A.dot(x0)  # Obliczanie reszty\n",
    "        \n",
    "        if np.all(np.abs(r) < tolerancja):\n",
    "            return x0\n",
    "        \n",
    "        delta_x=solve(A,r)\n",
    "        corrected=x0+delta_x\n",
    "\n",
    "    return corrected"
   ]
  },
  {
   "cell_type": "code",
   "execution_count": 51,
   "metadata": {},
   "outputs": [],
   "source": [
    "A = hilbert(5)\n",
    "b = np.array([5, 4, 3, 2, 1]).T"
   ]
  },
  {
   "cell_type": "code",
   "execution_count": 52,
   "metadata": {},
   "outputs": [
    {
     "name": "stdout",
     "output_type": "stream",
     "text": [
      "Rozwiązanie: [   -94.93934   2158.7874  -10704.598    17911.688    -9445.885  ]\n"
     ]
    }
   ],
   "source": [
    "rozwiazanie= iteracyjne_poprawianie(A, b)\n",
    "print(\"Rozwiązanie:\", rozwiazanie)"
   ]
  },
  {
   "cell_type": "markdown",
   "metadata": {},
   "source": [
    "# Zad 2 i 3"
   ]
  },
  {
   "cell_type": "code",
   "execution_count": 26,
   "metadata": {},
   "outputs": [],
   "source": [
    "def matrix(n):\n",
    "    A = np.zeros((n, n))\n",
    "    np.fill_diagonal(A, 4)\n",
    "    A += np.diag(-np.ones(n-1), k=1)\n",
    "    A += np.diag(-np.ones(n-1), k=-1)\n",
    "    A[0, n-1] = 1\n",
    "    A[n-1, 0] = 1\n",
    "    \n",
    "    b = np.zeros(n)\n",
    "    b[-1] = 100\n",
    "    \n",
    "    return A, b"
   ]
  },
  {
   "cell_type": "code",
   "execution_count": 27,
   "metadata": {},
   "outputs": [],
   "source": [
    "def gauss_seidel(n, iteracje=1000, tolerancja=1e-10):\n",
    "    # Tworzenie macierzy A i wektora b\n",
    "    A,b = matrix(n)\n",
    "    # Inicjalizacja wektora x\n",
    "    x = np.zeros(n)\n",
    "    \n",
    "    # Metoda Gaussa-Seidela\n",
    "    for _ in range(iteracje):\n",
    "        x_new = np.copy(x)\n",
    "        for i in range(n):\n",
    "            s1 = np.dot(A[i, :i], x_new[:i]) #ponizej przekatnej\n",
    "            s2 = np.dot(A[i, i+1:], x[i+1:]) #powyzej przekatnej\n",
    "            x_new[i] = (b[i] - s1 - s2) / A[i, i] #wzór\n",
    "        \n",
    "        # Sprawdzanie kryterium zbieżności\n",
    "        if np.linalg.norm(x_new - x) < tolerancja:\n",
    "            return x_new\n",
    "        \n",
    "        x = x_new\n",
    "    \n",
    "    return x"
   ]
  },
  {
   "cell_type": "markdown",
   "metadata": {},
   "source": [
    "## Dla n=20"
   ]
  },
  {
   "cell_type": "code",
   "execution_count": 28,
   "metadata": {},
   "outputs": [],
   "source": [
    "n=20\n",
    "A, b = matrix(n)"
   ]
  },
  {
   "cell_type": "markdown",
   "metadata": {},
   "source": [
    "### Rozwiązanie dokładne"
   ]
  },
  {
   "cell_type": "code",
   "execution_count": 29,
   "metadata": {},
   "outputs": [],
   "source": [
    "start = time.time()\n",
    "rozwiazanie_dokladne = np.linalg.solve(A, b)\n",
    "czas_dokladny = time.time() - start"
   ]
  },
  {
   "cell_type": "code",
   "execution_count": 30,
   "metadata": {},
   "outputs": [
    {
     "name": "stdout",
     "output_type": "stream",
     "text": [
      "Rozwiązanie dokładne: [-7.73502692e+00 -2.07259421e+00 -5.55349941e-01 -1.48805549e-01\n",
      " -3.98722562e-02 -1.06834753e-02 -2.86164518e-03 -7.63105381e-04\n",
      " -1.90776345e-04 -3.63138871e-20  1.90776345e-04  7.63105381e-04\n",
      "  2.86164518e-03  1.06834753e-02  3.98722562e-02  1.48805549e-01\n",
      "  5.55349941e-01  2.07259421e+00  7.73502692e+00  2.88675135e+01]\n",
      "Czas metody dokładnej: 0.0\n"
     ]
    }
   ],
   "source": [
    "print(\"Rozwiązanie dokładne:\", rozwiazanie_dokladne)\n",
    "print(\"Czas metody dokładnej:\", czas_dokladny)"
   ]
  },
  {
   "cell_type": "markdown",
   "metadata": {},
   "source": [
    "### Rozwiązanie Gauss-Seidel"
   ]
  },
  {
   "cell_type": "code",
   "execution_count": 31,
   "metadata": {},
   "outputs": [],
   "source": [
    "start = time.time()\n",
    "rozwiazanie_gauss_seidel = gauss_seidel(n)\n",
    "czas_gauss_seidel = time.time() - start"
   ]
  },
  {
   "cell_type": "code",
   "execution_count": 32,
   "metadata": {},
   "outputs": [
    {
     "name": "stdout",
     "output_type": "stream",
     "text": [
      "\n",
      "Rozwiązanie metodą Gaussa-Seidela: [-7.73502692e+00 -2.07259421e+00 -5.55349941e-01 -1.48805549e-01\n",
      " -3.98722562e-02 -1.06834753e-02 -2.86164518e-03 -7.63105383e-04\n",
      " -1.90776347e-04 -1.12140772e-12  1.90776345e-04  7.63105381e-04\n",
      "  2.86164518e-03  1.06834753e-02  3.98722562e-02  1.48805549e-01\n",
      "  5.55349941e-01  2.07259421e+00  7.73502692e+00  2.88675135e+01]\n",
      "Czas metody Gaussa-Seidela: 0.005982398986816406\n"
     ]
    }
   ],
   "source": [
    "print(\"\\nRozwiązanie metodą Gaussa-Seidela:\", rozwiazanie_gauss_seidel)\n",
    "print(\"Czas metody Gaussa-Seidela:\", czas_gauss_seidel)"
   ]
  },
  {
   "cell_type": "markdown",
   "metadata": {},
   "source": [
    "## Dla n=4"
   ]
  },
  {
   "cell_type": "code",
   "execution_count": 33,
   "metadata": {},
   "outputs": [],
   "source": [
    "n_new=4\n",
    "A_4, b_4 = matrix(n_new)"
   ]
  },
  {
   "cell_type": "markdown",
   "metadata": {},
   "source": [
    "### Rozwiązanie dokładne"
   ]
  },
  {
   "cell_type": "code",
   "execution_count": 34,
   "metadata": {},
   "outputs": [],
   "source": [
    "start = time.time()\n",
    "rozwiazanie_dokladne = np.linalg.solve(A_4, b_4)\n",
    "czas_dokladny = time.time() - start"
   ]
  },
  {
   "cell_type": "code",
   "execution_count": 35,
   "metadata": {},
   "outputs": [
    {
     "name": "stdout",
     "output_type": "stream",
     "text": [
      "Rozwiązanie dokładne: [-7.14285714  0.          7.14285714 28.57142857]\n",
      "Czas metody dokładnej: 0.0\n"
     ]
    }
   ],
   "source": [
    "print(\"Rozwiązanie dokładne:\", rozwiazanie_dokladne)\n",
    "print(\"Czas metody dokładnej:\", czas_dokladny)"
   ]
  },
  {
   "cell_type": "markdown",
   "metadata": {},
   "source": [
    "### Rozwiązanie Gaussa-Seidela"
   ]
  },
  {
   "cell_type": "code",
   "execution_count": 36,
   "metadata": {},
   "outputs": [],
   "source": [
    "start = time.time()\n",
    "rozwiazanie_gauss_seidel = gauss_seidel(n)\n",
    "czas_gauss_seidel = time.time() - start"
   ]
  },
  {
   "cell_type": "code",
   "execution_count": 37,
   "metadata": {},
   "outputs": [
    {
     "name": "stdout",
     "output_type": "stream",
     "text": [
      "\n",
      "Rozwiązanie metodą Gaussa-Seidela: [-7.73502692e+00 -2.07259421e+00 -5.55349941e-01 -1.48805549e-01\n",
      " -3.98722562e-02 -1.06834753e-02 -2.86164518e-03 -7.63105383e-04\n",
      " -1.90776347e-04 -1.12140772e-12  1.90776345e-04  7.63105381e-04\n",
      "  2.86164518e-03  1.06834753e-02  3.98722562e-02  1.48805549e-01\n",
      "  5.55349941e-01  2.07259421e+00  7.73502692e+00  2.88675135e+01]\n",
      "Czas metody Gaussa-Seidela: 0.004422426223754883\n"
     ]
    }
   ],
   "source": [
    "print(\"\\nRozwiązanie metodą Gaussa-Seidela:\", rozwiazanie_gauss_seidel)\n",
    "print(\"Czas metody Gaussa-Seidela:\", czas_gauss_seidel)"
   ]
  },
  {
   "cell_type": "markdown",
   "metadata": {},
   "source": [
    "# Zad 4"
   ]
  },
  {
   "cell_type": "code",
   "execution_count": 38,
   "metadata": {},
   "outputs": [],
   "source": [
    "# inicjalizacja macierzy B\n",
    "n = 20\n",
    "B = np.zeros((n, n))\n",
    "B[np.arange(n), np.arange(n)] = np.arange(0.025, 0.525, 0.025)\n",
    "B[np.arange(n-1), np.arange(1, n)] = 5.0"
   ]
  },
  {
   "cell_type": "code",
   "execution_count": 39,
   "metadata": {},
   "outputs": [
    {
     "data": {
      "text/plain": [
       "array([[0.025, 5.   , 0.   , 0.   , 0.   , 0.   , 0.   , 0.   , 0.   ,\n",
       "        0.   , 0.   , 0.   , 0.   , 0.   , 0.   , 0.   , 0.   , 0.   ,\n",
       "        0.   , 0.   ],\n",
       "       [0.   , 0.05 , 5.   , 0.   , 0.   , 0.   , 0.   , 0.   , 0.   ,\n",
       "        0.   , 0.   , 0.   , 0.   , 0.   , 0.   , 0.   , 0.   , 0.   ,\n",
       "        0.   , 0.   ],\n",
       "       [0.   , 0.   , 0.075, 5.   , 0.   , 0.   , 0.   , 0.   , 0.   ,\n",
       "        0.   , 0.   , 0.   , 0.   , 0.   , 0.   , 0.   , 0.   , 0.   ,\n",
       "        0.   , 0.   ],\n",
       "       [0.   , 0.   , 0.   , 0.1  , 5.   , 0.   , 0.   , 0.   , 0.   ,\n",
       "        0.   , 0.   , 0.   , 0.   , 0.   , 0.   , 0.   , 0.   , 0.   ,\n",
       "        0.   , 0.   ],\n",
       "       [0.   , 0.   , 0.   , 0.   , 0.125, 5.   , 0.   , 0.   , 0.   ,\n",
       "        0.   , 0.   , 0.   , 0.   , 0.   , 0.   , 0.   , 0.   , 0.   ,\n",
       "        0.   , 0.   ],\n",
       "       [0.   , 0.   , 0.   , 0.   , 0.   , 0.15 , 5.   , 0.   , 0.   ,\n",
       "        0.   , 0.   , 0.   , 0.   , 0.   , 0.   , 0.   , 0.   , 0.   ,\n",
       "        0.   , 0.   ],\n",
       "       [0.   , 0.   , 0.   , 0.   , 0.   , 0.   , 0.175, 5.   , 0.   ,\n",
       "        0.   , 0.   , 0.   , 0.   , 0.   , 0.   , 0.   , 0.   , 0.   ,\n",
       "        0.   , 0.   ],\n",
       "       [0.   , 0.   , 0.   , 0.   , 0.   , 0.   , 0.   , 0.2  , 5.   ,\n",
       "        0.   , 0.   , 0.   , 0.   , 0.   , 0.   , 0.   , 0.   , 0.   ,\n",
       "        0.   , 0.   ],\n",
       "       [0.   , 0.   , 0.   , 0.   , 0.   , 0.   , 0.   , 0.   , 0.225,\n",
       "        5.   , 0.   , 0.   , 0.   , 0.   , 0.   , 0.   , 0.   , 0.   ,\n",
       "        0.   , 0.   ],\n",
       "       [0.   , 0.   , 0.   , 0.   , 0.   , 0.   , 0.   , 0.   , 0.   ,\n",
       "        0.25 , 5.   , 0.   , 0.   , 0.   , 0.   , 0.   , 0.   , 0.   ,\n",
       "        0.   , 0.   ],\n",
       "       [0.   , 0.   , 0.   , 0.   , 0.   , 0.   , 0.   , 0.   , 0.   ,\n",
       "        0.   , 0.275, 5.   , 0.   , 0.   , 0.   , 0.   , 0.   , 0.   ,\n",
       "        0.   , 0.   ],\n",
       "       [0.   , 0.   , 0.   , 0.   , 0.   , 0.   , 0.   , 0.   , 0.   ,\n",
       "        0.   , 0.   , 0.3  , 5.   , 0.   , 0.   , 0.   , 0.   , 0.   ,\n",
       "        0.   , 0.   ],\n",
       "       [0.   , 0.   , 0.   , 0.   , 0.   , 0.   , 0.   , 0.   , 0.   ,\n",
       "        0.   , 0.   , 0.   , 0.325, 5.   , 0.   , 0.   , 0.   , 0.   ,\n",
       "        0.   , 0.   ],\n",
       "       [0.   , 0.   , 0.   , 0.   , 0.   , 0.   , 0.   , 0.   , 0.   ,\n",
       "        0.   , 0.   , 0.   , 0.   , 0.35 , 5.   , 0.   , 0.   , 0.   ,\n",
       "        0.   , 0.   ],\n",
       "       [0.   , 0.   , 0.   , 0.   , 0.   , 0.   , 0.   , 0.   , 0.   ,\n",
       "        0.   , 0.   , 0.   , 0.   , 0.   , 0.375, 5.   , 0.   , 0.   ,\n",
       "        0.   , 0.   ],\n",
       "       [0.   , 0.   , 0.   , 0.   , 0.   , 0.   , 0.   , 0.   , 0.   ,\n",
       "        0.   , 0.   , 0.   , 0.   , 0.   , 0.   , 0.4  , 5.   , 0.   ,\n",
       "        0.   , 0.   ],\n",
       "       [0.   , 0.   , 0.   , 0.   , 0.   , 0.   , 0.   , 0.   , 0.   ,\n",
       "        0.   , 0.   , 0.   , 0.   , 0.   , 0.   , 0.   , 0.425, 5.   ,\n",
       "        0.   , 0.   ],\n",
       "       [0.   , 0.   , 0.   , 0.   , 0.   , 0.   , 0.   , 0.   , 0.   ,\n",
       "        0.   , 0.   , 0.   , 0.   , 0.   , 0.   , 0.   , 0.   , 0.45 ,\n",
       "        5.   , 0.   ],\n",
       "       [0.   , 0.   , 0.   , 0.   , 0.   , 0.   , 0.   , 0.   , 0.   ,\n",
       "        0.   , 0.   , 0.   , 0.   , 0.   , 0.   , 0.   , 0.   , 0.   ,\n",
       "        0.475, 5.   ],\n",
       "       [0.   , 0.   , 0.   , 0.   , 0.   , 0.   , 0.   , 0.   , 0.   ,\n",
       "        0.   , 0.   , 0.   , 0.   , 0.   , 0.   , 0.   , 0.   , 0.   ,\n",
       "        0.   , 0.5  ]])"
      ]
     },
     "execution_count": 39,
     "metadata": {},
     "output_type": "execute_result"
    }
   ],
   "source": [
    "B"
   ]
  },
  {
   "cell_type": "code",
   "execution_count": 40,
   "metadata": {},
   "outputs": [],
   "source": [
    "# inicjalizacja wektora x\n",
    "x_0 = np.ones(n)\n",
    "x = x_0\n",
    "eta_values = []\n",
    "min_k = None"
   ]
  },
  {
   "cell_type": "code",
   "execution_count": 41,
   "metadata": {},
   "outputs": [],
   "source": [
    "for k in range(1,101):\n",
    "    x = np.dot(B, x)\n",
    "    eta = np.linalg.norm(x, 2) / np.linalg.norm(x_0, 2) #liczenie ety\n",
    "    eta_values.append(eta)\n",
    "    if np.linalg.norm(x, 2) < np.linalg.norm(x_0, 2) and min_k is None: #wyznaczenie najmniejszego k\n",
    "        min_k = k + 1"
   ]
  },
  {
   "cell_type": "code",
   "execution_count": 42,
   "metadata": {},
   "outputs": [
    {
     "data": {
      "image/png": "[encoded data removed]",
      "text/plain": [
       "<Figure size 720x432 with 1 Axes>"
      ]
     },
     "metadata": {},
     "output_type": "display_data"
    }
   ],
   "source": [
    "plt.figure(figsize=(10, 6))\n",
    "plt.plot(range(1, 101), eta_values, label='ηk=||x(k)||2/||x(0)||2')\n",
    "plt.axhline(y=10**14, color='r', linestyle='--')\n",
    "plt.axvline(x=25, color='g', linestyle='--', label='k=25')\n",
    "plt.xlabel('Iteracja k')\n",
    "plt.ylabel('ηk')\n",
    "plt.title('Zależność ηk od iteracji')\n",
    "plt.yscale('log')  # Skala logarytmiczna\n",
    "plt.legend()\n",
    "plt.grid(True)\n",
    "plt.show()"
   ]
  }
 ],
 "metadata": {
  "kernelspec": {
   "display_name": "base",
   "language": "python",
   "name": "python3"
  },
  "language_info": {
   "codemirror_mode": {
    "name": "ipython",
    "version": 3
   },
   "file_extension": ".py",
   "mimetype": "text/x-python",
   "name": "python",
   "nbconvert_exporter": "python",
   "pygments_lexer": "ipython3",
   "version": "3.9.7"
  }
 },
 "nbformat": 4,
 "nbformat_minor": 2
}
