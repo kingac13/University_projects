{
 "cells": [
  {
   "cell_type": "code",
   "execution_count": 2,
   "metadata": {},
   "outputs": [],
   "source": [
    "import matplotlib.pyplot as plt\n",
    "import numpy as np\n",
    "import seaborn as sns\n",
    "from scipy import linalg\n",
    "from scipy.linalg import det\n",
    "sns.set()"
   ]
  },
  {
   "cell_type": "markdown",
   "metadata": {},
   "source": [
    "### Zadanie 4"
   ]
  },
  {
   "cell_type": "markdown",
   "metadata": {},
   "source": [
    "Rozwiązanie przy pomocy implementacji metody eliminacji Gaussa, którą wykorzystuje się do rozwiązywania układu równań liniowych $A\\vec{x} = \\vec{b}$. Znajdziemy $\\vec{x}$. Chcemy otrzymać macierz górnotrojkątną (macierz z zerami poniżej przekątnej), a następnie zapisać rozwiązaia układu w wektorze x"
   ]
  },
  {
   "cell_type": "code",
   "execution_count": 2,
   "metadata": {},
   "outputs": [],
   "source": [
    "def gauss_eliminate1(A, b):\n",
    "   \n",
    "    n = len(A)\n",
    "    \n",
    "    for k in range(n):\n",
    "        # Wybór wiersza z największą wartością bezwzględną w kolumnie k\n",
    "        max = np.argmax(np.abs(A[k:, k])) + k\n",
    "        A[[k, max]], b[[k, max]] = A[[max, k]], b[[max, k]]\n",
    "\n",
    "        # Eliminacja elementów poniżej przekątne\n",
    "        for i in range(k+1, n):\n",
    "            factor = A[i, k] / A[k, k]\n",
    "            A[i, k:] -= factor * A[k, k:]\n",
    "            b[i] -= factor * b[k]\n",
    "\n",
    "    x = np.zeros(n)\n",
    "    for i in range(n-1, -1, -1):\n",
    "        x[i] = (b[i] - np.dot(A[i, i+1:], x[i+1:])) / A[i, i]\n",
    "\n",
    "    return x\n"
   ]
  },
  {
   "cell_type": "code",
   "execution_count": 3,
   "metadata": {},
   "outputs": [],
   "source": [
    "A = np.array([[0, 0, 2, 1, 2],\n",
    "              [0, 1, 0, 2, -1],\n",
    "              [1, 2, 0, -2, 0],\n",
    "              [0, 0, 0, -1, 1],\n",
    "              [0, 1, -1, 1, -1]], dtype = float)\n",
    "\n",
    "b = np.array([1, 1, -4, -2, -1], dtype = float)"
   ]
  },
  {
   "cell_type": "code",
   "execution_count": 4,
   "metadata": {},
   "outputs": [],
   "source": [
    "x = gauss_eliminate1(A,b)"
   ]
  },
  {
   "cell_type": "code",
   "execution_count": 5,
   "metadata": {},
   "outputs": [
    {
     "name": "stdout",
     "output_type": "stream",
     "text": [
      "Rozwiązanie: [ 2. -2.  1.  1. -1.]\n"
     ]
    }
   ],
   "source": [
    "print(\"Rozwiązanie:\", x)"
   ]
  },
  {
   "cell_type": "markdown",
   "metadata": {},
   "source": [
    "Rozwiązanie przy pomocy funkcji z bibliotki scipy."
   ]
  },
  {
   "cell_type": "code",
   "execution_count": 6,
   "metadata": {},
   "outputs": [],
   "source": [
    "A = np.array([[0, 0, 2, 1, 2],\n",
    "              [0, 1, 0, 2, -1],\n",
    "              [1, 2, 0, -2, 0],\n",
    "              [0, 0, 0, -1, 1],\n",
    "              [0, 1, -1, 1, -1]], dtype = float)\n",
    "\n",
    "b = np.array([1, 1, -4, -2, -1], dtype = float)"
   ]
  },
  {
   "cell_type": "code",
   "execution_count": 7,
   "metadata": {},
   "outputs": [],
   "source": [
    "x = linalg.solve(A, b)"
   ]
  },
  {
   "cell_type": "code",
   "execution_count": 8,
   "metadata": {},
   "outputs": [
    {
     "name": "stdout",
     "output_type": "stream",
     "text": [
      "Rozwiązanie: [ 2. -2.  1.  1. -1.]\n"
     ]
    }
   ],
   "source": [
    "print(\"Rozwiązanie:\", x)"
   ]
  },
  {
   "cell_type": "markdown",
   "metadata": {},
   "source": [
    "Otrzymaliśmy takie same wyniki."
   ]
  },
  {
   "cell_type": "markdown",
   "metadata": {},
   "source": [
    "### Zadanie 5"
   ]
  },
  {
   "cell_type": "markdown",
   "metadata": {},
   "source": [
    "Rozwiązanie z wykorzystaniem powyższej implementacji metody eliminacji Gaussa. \n",
    "\n",
    "Znajdziemy współczynniki wielomianu $y = a_0 + a_1x + a_2x^2 + a_3x^3 + a_4x^4$"
   ]
  },
  {
   "cell_type": "code",
   "execution_count": 9,
   "metadata": {},
   "outputs": [],
   "source": [
    "A = np.array([[1296, 216, 36, 6, 1], \n",
    "              [625, 125, 25, 5, 1], \n",
    "              [81, 27, 9, 3, 1],\n",
    "                [1, 1, 1, 1, 1], \n",
    "                [0, 0, 0, 0, 1]], dtype = float)\n",
    "\n",
    "b = np.array([-2, 2, 3, 1, -1], dtype = float)"
   ]
  },
  {
   "cell_type": "code",
   "execution_count": 10,
   "metadata": {},
   "outputs": [],
   "source": [
    "a_polynomial = gauss_eliminate1(A,b)"
   ]
  },
  {
   "cell_type": "code",
   "execution_count": 11,
   "metadata": {},
   "outputs": [
    {
     "data": {
      "text/plain": [
       "array([-0.025     ,  0.21666667, -0.875     ,  2.68333333, -1.        ])"
      ]
     },
     "execution_count": 11,
     "metadata": {},
     "output_type": "execute_result"
    }
   ],
   "source": [
    "a_polynomial"
   ]
  },
  {
   "cell_type": "code",
   "execution_count": 12,
   "metadata": {},
   "outputs": [
    {
     "name": "stdout",
     "output_type": "stream",
     "text": [
      "p(x) = -0.024999999999999918x^4 + 0.21666666666666587x^3 - 0.8749999999999978x^2 + 2.683333333333332x - 1.0\n"
     ]
    }
   ],
   "source": [
    "coeffs = a_polynomial \n",
    "terms = [f'{coeff}x^{len(coeffs)-1-i}' for i, coeff in enumerate(coeffs)]\n",
    "polynomial = ' + '.join(terms).replace('x^0', '').replace('x^1', 'x').replace(' + -', ' - ')\n",
    "print(\"p(x) =\", polynomial)"
   ]
  },
  {
   "cell_type": "markdown",
   "metadata": {},
   "source": [
    "Porównanie z funkjcą z biblioteki scipy"
   ]
  },
  {
   "cell_type": "code",
   "execution_count": 13,
   "metadata": {},
   "outputs": [],
   "source": [
    "A = np.array([[1296, 216, 36, 6, 1], \n",
    "              [625, 125, 25, 5, 1], \n",
    "              [81, 27, 9, 3, 1],\n",
    "                [1, 1, 1, 1, 1], \n",
    "                [0, 0, 0, 0, 1]], dtype = float)\n",
    "\n",
    "b = np.array([-2, 2, 3, 1, -1], dtype = float)"
   ]
  },
  {
   "cell_type": "code",
   "execution_count": 14,
   "metadata": {},
   "outputs": [],
   "source": [
    "an_polynomial = linalg.solve(A, b)"
   ]
  },
  {
   "cell_type": "code",
   "execution_count": 15,
   "metadata": {},
   "outputs": [
    {
     "data": {
      "text/plain": [
       "array([-0.025     ,  0.21666667, -0.875     ,  2.68333333, -1.        ])"
      ]
     },
     "execution_count": 15,
     "metadata": {},
     "output_type": "execute_result"
    }
   ],
   "source": [
    "an_polynomial"
   ]
  },
  {
   "cell_type": "code",
   "execution_count": 16,
   "metadata": {},
   "outputs": [
    {
     "name": "stdout",
     "output_type": "stream",
     "text": [
      "p(x) = -0.024999999999999956x^4 + 0.21666666666666623x^3 - 0.8749999999999989x^2 + 2.6833333333333327x - 1.0\n"
     ]
    }
   ],
   "source": [
    "coeffs = an_polynomial \n",
    "terms = [f'{coeff}x^{len(coeffs)-1-i}' for i, coeff in enumerate(coeffs)]\n",
    "polynomial = ' + '.join(terms).replace('x^0', '').replace('x^1', 'x').replace(' + -', ' - ')\n",
    "print(\"p(x) =\", polynomial)"
   ]
  },
  {
   "cell_type": "markdown",
   "metadata": {},
   "source": [
    "Wyniki się pokrywają."
   ]
  },
  {
   "cell_type": "markdown",
   "metadata": {},
   "source": [
    "# Zadanie 6"
   ]
  },
  {
   "cell_type": "markdown",
   "metadata": {},
   "source": [
    "Rozwiążemy układ $A\\vec{x} = \\vec{b}$, znajdziemy $\\det(A)$ oraz $\\vec{b}$."
   ]
  },
  {
   "cell_type": "code",
   "execution_count": 17,
   "metadata": {},
   "outputs": [],
   "source": [
    "A = np.array([[3.5, 2.77, -0.76, 1.80],\n",
    "               [-1.80, 2.68, 3.44, -0.09],\n",
    "                 [0.27, 5.07, 6.9, 1.61], \n",
    "                 [1.71, 5.45, 2.68, 1.71]], dtype = float)\n",
    "\n",
    "b = np.array([7.31, 4.23, 13.85, 11.55], dtype = float)"
   ]
  },
  {
   "cell_type": "code",
   "execution_count": 18,
   "metadata": {},
   "outputs": [],
   "source": [
    "x = gauss_eliminate1(A, b)"
   ]
  },
  {
   "cell_type": "code",
   "execution_count": 19,
   "metadata": {},
   "outputs": [
    {
     "data": {
      "text/plain": [
       "array([1., 1., 1., 1.])"
      ]
     },
     "execution_count": 19,
     "metadata": {},
     "output_type": "execute_result"
    }
   ],
   "source": [
    "x"
   ]
  },
  {
   "cell_type": "code",
   "execution_count": 20,
   "metadata": {},
   "outputs": [],
   "source": [
    "A = np.array([[3.5, 2.77, -0.76, 1.80],\n",
    "               [-1.80, 2.68, 3.44, -0.09],\n",
    "                 [0.27, 5.07, 6.9, 1.61], \n",
    "                 [1.71, 5.45, 2.68, 1.71]], dtype = float)\n",
    "\n",
    "Ax = np.dot(A,x)"
   ]
  },
  {
   "cell_type": "code",
   "execution_count": 21,
   "metadata": {},
   "outputs": [
    {
     "data": {
      "text/plain": [
       "array([ 7.31,  4.23, 13.85, 11.55])"
      ]
     },
     "execution_count": 21,
     "metadata": {},
     "output_type": "execute_result"
    }
   ],
   "source": [
    "Ax"
   ]
  },
  {
   "cell_type": "code",
   "execution_count": 22,
   "metadata": {},
   "outputs": [],
   "source": [
    "b = np.array([7.31, 4.23, 13.85, 11.55], dtype = float)\n",
    "\n",
    "r = b -Ax"
   ]
  },
  {
   "cell_type": "code",
   "execution_count": 23,
   "metadata": {},
   "outputs": [
    {
     "data": {
      "text/plain": [
       "array([8.88178420e-16, 0.00000000e+00, 1.77635684e-15, 1.77635684e-15])"
      ]
     },
     "execution_count": 23,
     "metadata": {},
     "output_type": "execute_result"
    }
   ],
   "source": [
    "r"
   ]
  },
  {
   "cell_type": "markdown",
   "metadata": {},
   "source": [
    "## Porównanie z funkcją wbudowaną"
   ]
  },
  {
   "cell_type": "code",
   "execution_count": 24,
   "metadata": {},
   "outputs": [],
   "source": [
    "A = np.array([[3.5, 2.77, -0.76, 1.80],\n",
    "               [-1.80, 2.68, 3.44, -0.09],\n",
    "                 [0.27, 5.07, 6.9, 1.61], \n",
    "                 [1.71, 5.45, 2.68, 1.71]], dtype = float)\n",
    "\n",
    "b = np.array([7.31, 4.23, 13.85, 11.55], dtype = float)"
   ]
  },
  {
   "cell_type": "code",
   "execution_count": 25,
   "metadata": {},
   "outputs": [],
   "source": [
    "x = linalg.solve(A, b)"
   ]
  },
  {
   "cell_type": "code",
   "execution_count": 26,
   "metadata": {},
   "outputs": [
    {
     "data": {
      "text/plain": [
       "array([1., 1., 1., 1.])"
      ]
     },
     "execution_count": 26,
     "metadata": {},
     "output_type": "execute_result"
    }
   ],
   "source": [
    "x"
   ]
  },
  {
   "cell_type": "code",
   "execution_count": 27,
   "metadata": {},
   "outputs": [
    {
     "data": {
      "text/plain": [
       "array([ 7.31,  4.23, 13.85, 11.55])"
      ]
     },
     "execution_count": 27,
     "metadata": {},
     "output_type": "execute_result"
    }
   ],
   "source": [
    "A = np.array([[3.5, 2.77, -0.76, 1.80], [-1.80, 2.68, 3.44, -0.09], [0.27, 5.07, 6.9, 1.61], [1.71, 5.45, 2.68, 1.71]], dtype = float)\n",
    "Ax = np.dot(A, x)\n",
    "Ax"
   ]
  },
  {
   "cell_type": "code",
   "execution_count": 28,
   "metadata": {},
   "outputs": [],
   "source": [
    "b = np.array([7.31, 4.23, 13.85, 11.55], dtype = float)\n",
    "r = b - Ax"
   ]
  },
  {
   "cell_type": "code",
   "execution_count": 29,
   "metadata": {},
   "outputs": [
    {
     "data": {
      "text/plain": [
       "array([0.00000000e+00, 8.88178420e-16, 1.77635684e-15, 1.77635684e-15])"
      ]
     },
     "execution_count": 29,
     "metadata": {},
     "output_type": "execute_result"
    }
   ],
   "source": [
    "r"
   ]
  },
  {
   "cell_type": "markdown",
   "metadata": {},
   "source": [
    "## Wyzanczenie wyznacznika macierzy A"
   ]
  },
  {
   "cell_type": "code",
   "execution_count": 30,
   "metadata": {},
   "outputs": [],
   "source": [
    "def get_det(A):\n",
    "    n = len(A)\n",
    "    determinant_sign = 1\n",
    "\n",
    "    for k in range(n):\n",
    "        # Szukanie elementu maksymalnego w k-tej kolumnie\n",
    "        max_row = np.argmax(np.abs(A[k:n, k])) + k\n",
    "\n",
    "        # Zamiana miejscami k-tego wiersza z wierszem z maksymalnym elementem\n",
    "        if k != max_row:\n",
    "            A[[k, max_row]] = A[[max_row, k]]\n",
    "            determinant_sign *= -1  # Zmiana znaku wyznacznika przy zamianie wierszy\n",
    "\n",
    "        if A[k, k] == 0:\n",
    "            return 0  # Wyznacznik jest zerowy, gdy na przekątnej pojawia się zero\n",
    "\n",
    "        # Eliminacja Gaussa\n",
    "        for i in range(k + 1, n):\n",
    "            factor = A[i, k] / A[k, k]\n",
    "            A[i, k + 1:] -= factor * A[k, k + 1:]\n",
    "\n",
    "    detA = determinant_sign * np.prod(np.diagonal(A))\n",
    "    return detA\n"
   ]
  },
  {
   "cell_type": "code",
   "execution_count": 31,
   "metadata": {},
   "outputs": [],
   "source": [
    "A = np.array([[3.5, 2.77, -0.76, 1.80],\n",
    "               [-1.80, 2.68, 3.44, -0.09],\n",
    "                 [0.27, 5.07, 6.9, 1.61], \n",
    "                 [1.71, 5.45, 2.68, 1.71]], dtype = float)\n",
    "\n",
    "detA = get_det(A)"
   ]
  },
  {
   "cell_type": "code",
   "execution_count": 32,
   "metadata": {},
   "outputs": [
    {
     "data": {
      "text/plain": [
       "-0.22579734000000884"
      ]
     },
     "execution_count": 32,
     "metadata": {},
     "output_type": "execute_result"
    }
   ],
   "source": [
    "detA"
   ]
  },
  {
   "cell_type": "markdown",
   "metadata": {},
   "source": [
    "## Wyznacznik funkcją wbudowaną"
   ]
  },
  {
   "cell_type": "code",
   "execution_count": 33,
   "metadata": {},
   "outputs": [],
   "source": [
    "A = np.array([[3.5, 2.77, -0.76, 1.80],\n",
    "               [-1.80, 2.68, 3.44, -0.09],\n",
    "                 [0.27, 5.07, 6.9, 1.61], \n",
    "                 [1.71, 5.45, 2.68, 1.71]], dtype = float)\n",
    "\n",
    "detA = linalg.det(A)"
   ]
  },
  {
   "cell_type": "code",
   "execution_count": 34,
   "metadata": {},
   "outputs": [
    {
     "data": {
      "text/plain": [
       "-0.22579733999999502"
      ]
     },
     "execution_count": 34,
     "metadata": {},
     "output_type": "execute_result"
    }
   ],
   "source": [
    "detA"
   ]
  },
  {
   "cell_type": "markdown",
   "metadata": {},
   "source": [
    "# Zadanie 7"
   ]
  },
  {
   "cell_type": "markdown",
   "metadata": {},
   "source": [
    "Rozwiążemy układ $A\\vec{x} = \\vec{b}$."
   ]
  },
  {
   "cell_type": "code",
   "execution_count": 35,
   "metadata": {},
   "outputs": [],
   "source": [
    "A = np.array([[10, -2, -1, 2, 3, 1, -4, 7],\n",
    "              [5, 11, 3, 10, -3, 3, 3, -4],\n",
    "              [7, 12, 1, 5, 3, -12, 2, 3],\n",
    "              [8, 7, -2, 1, 3, 2, 2, 4],\n",
    "              [2, -15, -1, 1, 4, -1, 8, 3],\n",
    "              [4, 2, 9, 1, 12, -1, 4, 1],\n",
    "              [-1, 4, -7, -1, 1, 1, -1, -3],\n",
    "              [-1, 3, 4, 1, 3, -4, 7, 6]], dtype = float)\n",
    "\n",
    "b = np.array([0, 12, -5, 3, -25, -26, 9, -7], dtype = float)"
   ]
  },
  {
   "cell_type": "code",
   "execution_count": 36,
   "metadata": {},
   "outputs": [],
   "source": [
    "x = gauss_eliminate1(A, b)"
   ]
  },
  {
   "cell_type": "code",
   "execution_count": 37,
   "metadata": {},
   "outputs": [
    {
     "data": {
      "text/plain": [
       "array([-1.,  1., -1.,  1., -1.,  1., -1.,  1.])"
      ]
     },
     "execution_count": 37,
     "metadata": {},
     "output_type": "execute_result"
    }
   ],
   "source": [
    "x"
   ]
  },
  {
   "cell_type": "markdown",
   "metadata": {},
   "source": [
    "Porównanie z funkcją z biblioteki scipy"
   ]
  },
  {
   "cell_type": "code",
   "execution_count": 38,
   "metadata": {},
   "outputs": [],
   "source": [
    "A = np.array([[10, -2, -1, 2, 3, 1, -4, 7],\n",
    "              [5, 11, 3, 10, -3, 3, 3, -4],\n",
    "              [7, 12, 1, 5, 3, -12, 2, 3],\n",
    "              [8, 7, -2, 1, 3, 2, 2, 4],\n",
    "              [2, -15, -1, 1, 4, -1, 8, 3],\n",
    "              [4, 2, 9, 1, 12, -1, 4, 1],\n",
    "              [-1, 4, -7, -1, 1, 1, -1, -3],\n",
    "              [-1, 3, 4, 1, 3, -4, 7, 6]], dtype = float)\n",
    "\n",
    "b = np.array([0, 12, -5, 3, -25, -26, 9, -7], dtype = float)"
   ]
  },
  {
   "cell_type": "code",
   "execution_count": 39,
   "metadata": {},
   "outputs": [],
   "source": [
    "x = linalg.solve(A,b)"
   ]
  },
  {
   "cell_type": "code",
   "execution_count": 40,
   "metadata": {},
   "outputs": [
    {
     "data": {
      "text/plain": [
       "array([-1.,  1., -1.,  1., -1.,  1., -1.,  1.])"
      ]
     },
     "execution_count": 40,
     "metadata": {},
     "output_type": "execute_result"
    }
   ],
   "source": [
    "x"
   ]
  },
  {
   "cell_type": "markdown",
   "metadata": {},
   "source": [
    "Wyniki się pokrywają"
   ]
  },
  {
   "cell_type": "markdown",
   "metadata": {},
   "source": [
    "### Zadanie 8"
   ]
  },
  {
   "cell_type": "markdown",
   "metadata": {},
   "source": [
    "Aby obliczyć odwrotność macierzy, stosujemy metodę eliminacji Gaussa na rozszerzonej macierzy, która składa się z oryginalnej macierzy A i macierzy jednostkowej (identyczności). Poniżej zmodyfikowana funkcja gauss_elimination do obsługi macierzy zamiast pojedynczego wektora."
   ]
  },
  {
   "cell_type": "code",
   "execution_count": 6,
   "metadata": {},
   "outputs": [],
   "source": [
    "def gauss_eliminate2(A, B):\n",
    "    n = len(A)  \n",
    "\n",
    "    for k in range(n):\n",
    "        # Wybór wiersza z największą wartością bezwzględną w kolumnie k\n",
    "        max = np.argmax(np.abs(A[k:, k])) + k\n",
    "        A[[k, max]], B[[k, max]] = A[[max, k]], B[[max, k]] \n",
    "\n",
    "        for i in range(k+1, n):\n",
    "            factor = A[i, k] / A[k, k]  # Obliczenie współczynnika\n",
    "            A[i, k:] -= factor * A[k, k:]  # Aktualizacja wierszy macierzy A\n",
    "            B[i, :] -= factor * B[k, :]  # Aktualizacja wierszy macierzy B\n",
    "\n",
    "    \n",
    "    for i in range(n-1, -1, -1):\n",
    "        B[i, :] -= np.dot(A[i, i+1:], B[i+1:, :])  # Odejmowanie dotychczasowych rozwiązań\n",
    "        B[i, :] /= A[i, i]  # Dzielenie przez współczynnik na przekątnej\n",
    "\n",
    "    return B "
   ]
  },
  {
   "cell_type": "code",
   "execution_count": 7,
   "metadata": {},
   "outputs": [],
   "source": [
    "def get_matrix_inverse(matrix):\n",
    "    n = len(matrix)  \n",
    "    identity_matrix = np.identity(n)  \n",
    "    inverse_matrix = gauss_eliminate2(matrix, identity_matrix)  \n",
    "\n",
    "    return inverse_matrix  "
   ]
  },
  {
   "cell_type": "code",
   "execution_count": 43,
   "metadata": {},
   "outputs": [],
   "source": [
    "A = np.array([[2, -1, 0, 0, 0, 0],\n",
    "              [-1, 2, -1, 0, 0, 0],\n",
    "              [0, -1, 2, -1, 0, 0],\n",
    "              [0, 0, -1, 2, -1, 0],\n",
    "              [0, 0, 0, -1, 2, -1],\n",
    "              [0, 0, 0, 0, -1, 5]], dtype = float)\n",
    "\n",
    "inverse_A = get_matrix_inverse(A)"
   ]
  },
  {
   "cell_type": "markdown",
   "metadata": {},
   "source": [
    "Macierz A"
   ]
  },
  {
   "cell_type": "code",
   "execution_count": 44,
   "metadata": {},
   "outputs": [
    {
     "data": {
      "text/plain": [
       "array([[ 2., -1.,  0.,  0.,  0.,  0.],\n",
       "       [-1.,  2., -1.,  0.,  0.,  0.],\n",
       "       [ 0., -1.,  2., -1.,  0.,  0.],\n",
       "       [ 0.,  0., -1.,  2., -1.,  0.],\n",
       "       [ 0.,  0.,  0., -1.,  2., -1.],\n",
       "       [ 0.,  0.,  0.,  0., -1.,  5.]])"
      ]
     },
     "execution_count": 44,
     "metadata": {},
     "output_type": "execute_result"
    }
   ],
   "source": [
    "A = np.array([[2, -1, 0, 0, 0, 0],\n",
    "              [-1, 2, -1, 0, 0, 0],\n",
    "              [0, -1, 2, -1, 0, 0],\n",
    "              [0, 0, -1, 2, -1, 0],\n",
    "              [0, 0, 0, -1, 2, -1],\n",
    "              [0, 0, 0, 0, -1, 5]], dtype = float)\n",
    "A"
   ]
  },
  {
   "cell_type": "markdown",
   "metadata": {},
   "source": [
    "Macierz odwrotna $A^{-1}$"
   ]
  },
  {
   "cell_type": "code",
   "execution_count": 45,
   "metadata": {},
   "outputs": [
    {
     "data": {
      "text/plain": [
       "array([[0.84, 0.68, 0.52, 0.36, 0.2 , 0.04],\n",
       "       [0.68, 1.36, 1.04, 0.72, 0.4 , 0.08],\n",
       "       [0.52, 1.04, 1.56, 1.08, 0.6 , 0.12],\n",
       "       [0.36, 0.72, 1.08, 1.44, 0.8 , 0.16],\n",
       "       [0.2 , 0.4 , 0.6 , 0.8 , 1.  , 0.2 ],\n",
       "       [0.04, 0.08, 0.12, 0.16, 0.2 , 0.24]])"
      ]
     },
     "execution_count": 45,
     "metadata": {},
     "output_type": "execute_result"
    }
   ],
   "source": [
    "inverse_A"
   ]
  },
  {
   "cell_type": "markdown",
   "metadata": {},
   "source": [
    "Sprawdzenie"
   ]
  },
  {
   "cell_type": "code",
   "execution_count": 46,
   "metadata": {},
   "outputs": [],
   "source": [
    "A = np.array([[2, -1, 0, 0, 0, 0],\n",
    "              [-1, 2, -1, 0, 0, 0],\n",
    "              [0, -1, 2, -1, 0, 0],\n",
    "              [0, 0, -1, 2, -1, 0],\n",
    "              [0, 0, 0, -1, 2, -1],\n",
    "              [0, 0, 0, 0, -1, 5]], dtype = float)\n",
    "\n",
    "A_inv = linalg.inv(A)"
   ]
  },
  {
   "cell_type": "code",
   "execution_count": 47,
   "metadata": {},
   "outputs": [
    {
     "data": {
      "text/plain": [
       "array([[0.84, 0.68, 0.52, 0.36, 0.2 , 0.04],\n",
       "       [0.68, 1.36, 1.04, 0.72, 0.4 , 0.08],\n",
       "       [0.52, 1.04, 1.56, 1.08, 0.6 , 0.12],\n",
       "       [0.36, 0.72, 1.08, 1.44, 0.8 , 0.16],\n",
       "       [0.2 , 0.4 , 0.6 , 0.8 , 1.  , 0.2 ],\n",
       "       [0.04, 0.08, 0.12, 0.16, 0.2 , 0.24]])"
      ]
     },
     "execution_count": 47,
     "metadata": {},
     "output_type": "execute_result"
    }
   ],
   "source": [
    "A_inv"
   ]
  },
  {
   "cell_type": "markdown",
   "metadata": {},
   "source": [
    "Macierz odwortna nie jest macierzą trójdiagonalną."
   ]
  },
  {
   "cell_type": "markdown",
   "metadata": {},
   "source": [
    "### Zadanie 9"
   ]
  },
  {
   "cell_type": "code",
   "execution_count": 8,
   "metadata": {},
   "outputs": [],
   "source": [
    "A = np.array([[1, 3, -9, 6, 4],\n",
    "             [2, -1, 6, 7, 1],\n",
    "             [3, 2, -3, 15, 5],\n",
    "             [8, -1, 1, 4, 2],\n",
    "             [11, 1, -2, 18, 7]], dtype = float)\n",
    "\n",
    "inverse_A = get_matrix_inverse(A)\n"
   ]
  },
  {
   "cell_type": "code",
   "execution_count": 10,
   "metadata": {},
   "outputs": [
    {
     "name": "stdout",
     "output_type": "stream",
     "text": [
      "Macierz A:\n",
      " [[ 1.  3. -9.  6.  4.]\n",
      " [ 2. -1.  6.  7.  1.]\n",
      " [ 3.  2. -3. 15.  5.]\n",
      " [ 8. -1.  1.  4.  2.]\n",
      " [11.  1. -2. 18.  7.]]\n",
      "Macierz odwrotna A^(-1):\n",
      " [[-7.42166231e+14 -7.42166231e+14 -7.42166231e+14 -1.48433246e+15\n",
      "   1.48433246e+15]\n",
      " [-3.52528960e+15 -3.52528960e+15 -3.52528960e+15 -7.05057919e+15\n",
      "   7.05057919e+15]\n",
      " [-5.90359502e+14 -5.90359502e+14 -5.90359502e+14 -1.18071900e+15\n",
      "   1.18071900e+15]\n",
      " [-0.00000000e+00 -0.00000000e+00  1.00000000e+00  1.00000000e+00\n",
      "  -1.00000000e+00]\n",
      " [ 1.50119988e+15  1.50119988e+15  1.50119988e+15  3.00239975e+15\n",
      "  -3.00239975e+15]]\n"
     ]
    }
   ],
   "source": [
    "A = np.array([[1, 3, -9, 6, 4],\n",
    "             [2, -1, 6, 7, 1],\n",
    "             [3, 2, -3, 15, 5],\n",
    "             [8, -1, 1, 4, 2],\n",
    "             [11, 1, -2, 18, 7]], dtype = float)\n",
    "\n",
    "print(\"Macierz A:\\n\", A)\n",
    "print(\"Macierz odwrotna A^(-1):\\n\", inverse_A)"
   ]
  },
  {
   "cell_type": "code",
   "execution_count": 50,
   "metadata": {},
   "outputs": [
    {
     "data": {
      "text/plain": [
       "array([[-1.06340236e+15, -1.06340236e+15, -1.06340236e+15,\n",
       "        -2.12680472e+15,  2.12680472e+15],\n",
       "       [-5.05116121e+15, -5.05116121e+15, -5.05116121e+15,\n",
       "        -1.01023224e+16,  1.01023224e+16],\n",
       "       [-8.45888241e+14, -8.45888241e+14, -8.45888241e+14,\n",
       "        -1.69177648e+15,  1.69177648e+15],\n",
       "       [-7.02563008e-17, -9.54097912e-18,  1.00000000e+00,\n",
       "         1.00000000e+00, -1.00000000e+00],\n",
       "       [ 2.15097296e+15,  2.15097296e+15,  2.15097296e+15,\n",
       "         4.30194591e+15, -4.30194591e+15]])"
      ]
     },
     "execution_count": 50,
     "metadata": {},
     "output_type": "execute_result"
    }
   ],
   "source": [
    "A = np.array([[1, 3, -9, 6, 4],\n",
    "             [2, -1, 6, 7, 1],\n",
    "             [3, 2, -3, 15, 5],\n",
    "             [8, -1, 1, 4, 2],\n",
    "             [11, 1, -2, 18, 7]], dtype = float)\n",
    "\n",
    "\n",
    "np.linalg.inv(A)"
   ]
  },
  {
   "cell_type": "code",
   "execution_count": 51,
   "metadata": {},
   "outputs": [
    {
     "data": {
      "text/plain": [
       "5.928590951498336e-14"
      ]
     },
     "execution_count": 51,
     "metadata": {},
     "output_type": "execute_result"
    }
   ],
   "source": [
    "get_det(A)"
   ]
  },
  {
   "cell_type": "code",
   "execution_count": 52,
   "metadata": {},
   "outputs": [],
   "source": [
    "A = np.array([[1, 3, -9, 6, 4],\n",
    "             [2, -1, 6, 7, 1],\n",
    "             [3, 2, -3, 15, 5],\n",
    "             [8, -1, 1, 4, 2],\n",
    "             [11, 1, -2, 18, 7]], dtype = float)\n"
   ]
  },
  {
   "cell_type": "code",
   "execution_count": 53,
   "metadata": {},
   "outputs": [
    {
     "data": {
      "text/plain": [
       "4.137662434899883e-14"
      ]
     },
     "execution_count": 53,
     "metadata": {},
     "output_type": "execute_result"
    }
   ],
   "source": [
    "detA = np.linalg.det(A)\n",
    "detA"
   ]
  },
  {
   "cell_type": "markdown",
   "metadata": {},
   "source": [
    "Macierz jest osobliwa, ponieważ wyznacznik macierzy jest w przybliżeniu 0, zatem nie możemy wyznaczyć jej odwrotności. Z rozwiązania numerycznego otrzymaliśmy błędy zaokrągleń."
   ]
  }
 ],
 "metadata": {
  "kernelspec": {
   "display_name": "base",
   "language": "python",
   "name": "python3"
  },
  "language_info": {
   "codemirror_mode": {
    "name": "ipython",
    "version": 3
   },
   "file_extension": ".py",
   "mimetype": "text/x-python",
   "name": "python",
   "nbconvert_exporter": "python",
   "pygments_lexer": "ipython3",
   "version": "3.9.7"
  }
 },
 "nbformat": 4,
 "nbformat_minor": 2
}
